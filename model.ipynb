{
 "cells": [
  {
   "cell_type": "code",
   "execution_count": 2,
   "metadata": {},
   "outputs": [],
   "source": [
    "import argparse\n",
    "import numpy as np\n",
    "import networkx as nx\n",
    "import random\n",
    "import math\n",
    "from gensim.models import Word2Vec\n",
    "import matplotlib.pyplot as plt\n",
    "from tqdm import tqdm"
   ]
  },
  {
   "cell_type": "code",
   "execution_count": 3,
   "metadata": {},
   "outputs": [],
   "source": [
    "L_max = 100\n",
    "N_walk = 10"
   ]
  },
  {
   "cell_type": "code",
   "execution_count": 4,
   "metadata": {},
   "outputs": [],
   "source": [
    "data_name = 'dblp'\n",
    "\n",
    "\n",
    "if data_name == 'dblp':\n",
    "    data = 'Datasets/DBLP/dblp.edgelist'\n",
    "elif data_name == 'movie':\n",
    "    data = 'Datasets/Movies/Movies.txt'\n",
    "elif data_name == 'Foursquare':\n",
    "    data =  'Datasets/Foursquare/Foursquare.txt'\n",
    "\n",
    "\n",
    "# 读取数据集\n",
    "G = nx.read_edgelist(data)"
   ]
  },
  {
   "cell_type": "markdown",
   "metadata": {},
   "source": [
    "# JUST"
   ]
  },
  {
   "cell_type": "code",
   "execution_count": 19,
   "metadata": {},
   "outputs": [],
   "source": [
    "# 生成JUST路径\n",
    "def get_justwalk(G,node,L_max,m=2):\n",
    "    walk = [node]\n",
    "    Q_hist = [node[0]]\n",
    "    a = 0.5\n",
    "    Pr_stay = 0\n",
    "    same_length = 1\n",
    "    while len(walk) < L_max:\n",
    "        # 筛选出可以前往的邻居节点\n",
    "        n_neighbors = list(G.neighbors(node))\n",
    "        \n",
    "        # 不存在邻居则直接结束\n",
    "        if len(n_neighbors) == 0:\n",
    "            break\n",
    "        V_stay = [x for x in n_neighbors if x[0] == node[0]]\n",
    "        # 计算Pr跳转概率\n",
    "        if len(V_stay) == 0:\n",
    "            Pr_stay = 0\n",
    "        elif len(n_neighbors) == len(V_stay):\n",
    "            Pr_stay = 1\n",
    "        else:\n",
    "            Pr_stay = math.pow(a, same_length)\n",
    "\n",
    "        # (0,1)均匀抽样，决定JUMP or STAY\n",
    "        r = random.uniform(0, 1)\n",
    "        if r<=Pr_stay:\n",
    "            # Stay\n",
    "            random_node = random.choice(V_stay)\n",
    "        else:\n",
    "            # JUMP\n",
    "            # 首先选取jump类型\n",
    "            Q_jump = list(set([x[0] for x in n_neighbors if (x[0] not in Q_hist)]))\n",
    "            if len(Q_jump)>0:\n",
    "                # 选取JUMP节点\n",
    "                jump_type = random.choice(Q_jump)\n",
    "                V_jump = [x for x in n_neighbors if x[0] == jump_type]\n",
    "                random_node = random.choice(V_jump)\n",
    "            else:\n",
    "                Q_jump = list(set([x[0] for x in n_neighbors if (x[0] != node[0])]))\n",
    "                jump_type = random.choice(Q_jump)\n",
    "                V_jump = [x for x in n_neighbors if (x[0] == jump_type)]\n",
    "                random_node = random.choice(V_jump)\n",
    "        if random_node[0] not in Q_hist:\n",
    "            Q_hist.append(random_node[0])\n",
    "            if len(Q_hist)>m:\n",
    "                Q_hist.pop(0)\n",
    "        elif random_node[0] == Q_hist[-1]:\n",
    "            same_length+=1\n",
    "\n",
    "        # 添加路径节点\n",
    "        walk.append(random_node)\n",
    "\n",
    "        if node[0]!=random_node[0]:\n",
    "            same_length = 1\n",
    "\n",
    "        node = random_node\n",
    "    return walk"
   ]
  },
  {
   "cell_type": "code",
   "execution_count": 20,
   "metadata": {},
   "outputs": [
    {
     "name": "stderr",
     "output_type": "stream",
     "text": [
      "100%|██████████| 2405/2405 [00:26<00:00, 92.45it/s] \n"
     ]
    }
   ],
   "source": [
    "walks = []\n",
    "nodes = list(G.nodes())\n",
    "\n",
    "for node in tqdm(nodes):\n",
    "    for i in range(N_walk):\n",
    "        just_walks = get_justwalk(G, node, L_max)\n",
    "        walks.append(just_walks)"
   ]
  },
  {
   "cell_type": "code",
   "execution_count": 21,
   "metadata": {},
   "outputs": [
    {
     "data": {
      "text/plain": [
       "24050"
      ]
     },
     "execution_count": 21,
     "metadata": {},
     "output_type": "execute_result"
    }
   ],
   "source": [
    "len(walks)"
   ]
  },
  {
   "cell_type": "code",
   "execution_count": 22,
   "metadata": {},
   "outputs": [
    {
     "name": "stdout",
     "output_type": "stream",
     "text": [
      "Starting training .. \n",
      "Finished training .. \n"
     ]
    }
   ],
   "source": [
    "print('Starting training .. ')\n",
    "model = Word2Vec(walks, size=128, window=10, min_count=0, workers=4)\n",
    "print('Finished training .. ')\n",
    "model.wv.save_word2vec_format('Vectorfile/JUST/'+data_name+'.embeddings')"
   ]
  },
  {
   "cell_type": "markdown",
   "metadata": {},
   "source": [
    "# JUST without menory"
   ]
  },
  {
   "cell_type": "code",
   "execution_count": 23,
   "metadata": {},
   "outputs": [],
   "source": [
    "# 将memory设置为1\n",
    "def get_justwalk_without_menory(G,node,L_max,m=1):\n",
    "    walk = [node]\n",
    "    Q_hist = [node[0]]\n",
    "    a = 0.5\n",
    "    Pr_stay = 0\n",
    "    while len(walk) < L_max:\n",
    "        # 筛选出可以前往的邻居节点\n",
    "        n_neighbors = list(G.neighbors(node))\n",
    "        \n",
    "        # 不存在邻居则直接结束\n",
    "        if len(n_neighbors) == 0:\n",
    "            break\n",
    "        V_stay = [x for x in n_neighbors if x[0] == node[0]]\n",
    "        # 计算Pr跳转概率\n",
    "        if len(V_stay) == 0:\n",
    "            Pr_stay = 0\n",
    "        elif len(n_neighbors) == len(V_stay):\n",
    "            Pr_stay = 1\n",
    "        else:\n",
    "            Pr_stay = math.pow(a, 1)\n",
    "\n",
    "        # (0,1)均匀抽样，决定JUMP or STAY\n",
    "        r = random.uniform(0, 1)\n",
    "        if r<=Pr_stay:\n",
    "            # Stay\n",
    "            random_node = random.choice(V_stay)\n",
    "        else:\n",
    "            # JUMP\n",
    "            # 首先选取jump类型\n",
    "            Q_jump = list(set([x[0] for x in n_neighbors if (x[0] not in Q_hist)]))\n",
    "            if len(Q_jump)>0:\n",
    "                # 选取JUMP节点\n",
    "                jump_type = random.choice(Q_jump)\n",
    "                V_jump = [x for x in n_neighbors if x[0] == jump_type]\n",
    "                random_node = random.choice(V_jump)\n",
    "            else:\n",
    "                Q_jump = list(set([x[0] for x in n_neighbors if (x[0] != node[0])]))\n",
    "                jump_type = random.choice(Q_jump)\n",
    "                V_jump = [x for x in n_neighbors if (x[0] == jump_type)]\n",
    "                random_node = random.choice(V_jump)\n",
    "        if random_node[0] not in Q_hist:\n",
    "            Q_hist.append(random_node[0])\n",
    "            if len(Q_hist)>m:\n",
    "                Q_hist.pop(0)\n",
    "\n",
    "        # 添加路径节点\n",
    "        walk.append(random_node)\n",
    "        node = random_node\n",
    "    return walk"
   ]
  },
  {
   "cell_type": "code",
   "execution_count": 24,
   "metadata": {},
   "outputs": [
    {
     "name": "stderr",
     "output_type": "stream",
     "text": [
      "100%|██████████| 2405/2405 [00:22<00:00, 108.28it/s]\n"
     ]
    }
   ],
   "source": [
    "walks = []\n",
    "nodes = list(G.nodes())\n",
    "\n",
    "for node in tqdm(nodes):\n",
    "    for i in range(N_walk):\n",
    "        just_walks = get_justwalk_without_menory(G, node, L_max,m=1)\n",
    "        walks.append(just_walks)"
   ]
  },
  {
   "cell_type": "code",
   "execution_count": 25,
   "metadata": {},
   "outputs": [
    {
     "name": "stdout",
     "output_type": "stream",
     "text": [
      "Starting training .. \n",
      "Finished training .. \n"
     ]
    }
   ],
   "source": [
    "print('Starting training .. ')\n",
    "model = Word2Vec(walks, size=128, window=10, min_count=0, workers=4)\n",
    "print('Finished training .. ')\n",
    "model.wv.save_word2vec_format('Vectorfile/JUST_without_memory/'+data_name+'.embeddings')"
   ]
  },
  {
   "cell_type": "markdown",
   "metadata": {},
   "source": [
    "#  DeepWalk"
   ]
  },
  {
   "cell_type": "code",
   "execution_count": 26,
   "metadata": {},
   "outputs": [],
   "source": [
    "# 生成随机路径\n",
    "def get_randomwalk(node, path_length):\n",
    "    random_walk = [node]\n",
    "    for i in range(path_length-1):\n",
    "        temp = list(G.neighbors(node))\n",
    "        temp = list(set(temp) - set(random_walk))    \n",
    "        if len(temp) == 0:\n",
    "            break\n",
    "\n",
    "        random_node = random.choice(temp)\n",
    "        random_walk.append(random_node)\n",
    "        node = random_node\n",
    "        \n",
    "    return random_walk"
   ]
  },
  {
   "cell_type": "code",
   "execution_count": 27,
   "metadata": {},
   "outputs": [
    {
     "name": "stderr",
     "output_type": "stream",
     "text": [
      "100%|██████████| 2405/2405 [00:09<00:00, 254.49it/s]\n"
     ]
    },
    {
     "data": {
      "text/plain": [
       "24050"
      ]
     },
     "execution_count": 27,
     "metadata": {},
     "output_type": "execute_result"
    }
   ],
   "source": [
    "# get list of all nodes from the graph\n",
    "nodes = list(G.nodes())\n",
    "\n",
    "DeepWalk = []\n",
    "for n in tqdm(nodes):\n",
    "    for i in range(N_walk):\n",
    "        DeepWalk.append(get_randomwalk(n,L_max))\n",
    "\n",
    "# count of sequences\n",
    "len(DeepWalk)"
   ]
  },
  {
   "cell_type": "code",
   "execution_count": 28,
   "metadata": {},
   "outputs": [
    {
     "name": "stdout",
     "output_type": "stream",
     "text": [
      "Starting training .. \n",
      "Finished training .. \n"
     ]
    }
   ],
   "source": [
    "print('Starting training .. ')\n",
    "model = Word2Vec(DeepWalk, size=128, window=10, min_count=0, workers=-1)\n",
    "print('Finished training .. ')\n",
    "model.wv.save_word2vec_format('Vectorfile/DeepWalk/'+data_name+'.embeddings')"
   ]
  },
  {
   "cell_type": "markdown",
   "metadata": {},
   "source": [
    "# Metapath2Vec"
   ]
  },
  {
   "cell_type": "code",
   "execution_count": 33,
   "metadata": {},
   "outputs": [],
   "source": [
    "# 获取Metapath路径\n",
    "def get_metapath(node,path_length,meta):\n",
    "    meta = meta[:-1]\n",
    "    metapath = [node]\n",
    "    for i in range(path_length-1):\n",
    "        current_type = meta[(i+1)%len(meta)]\n",
    "        neighbors = list(G.neighbors(node))\n",
    "        temp = [n for n in neighbors if n[0] ==current_type]\n",
    "#         temp = list(set(temp) - set(metapath))  \n",
    "        if len(temp) == 0:\n",
    "            break\n",
    "        random_node = random.choice(temp)\n",
    "        metapath.append(random_node)\n",
    "        node = random_node\n",
    "        \n",
    "    return metapath"
   ]
  },
  {
   "cell_type": "code",
   "execution_count": 35,
   "metadata": {},
   "outputs": [
    {
     "name": "stderr",
     "output_type": "stream",
     "text": [
      "100%|██████████| 204/204 [00:00<00:00, 662.55it/s]\n"
     ]
    },
    {
     "data": {
      "text/plain": [
       "18360"
      ]
     },
     "execution_count": 35,
     "metadata": {},
     "output_type": "execute_result"
    }
   ],
   "source": [
    "# get list of all nodes from the graph\n",
    "nodes = list(G.nodes())\n",
    "meta1 = ['amdma','amcma']\n",
    "meta2 = ['ucpcu','pctcp']\n",
    "Metapath = []\n",
    "for n in tqdm([n for n in nodes if n[0] in meta[:][0]]):\n",
    "    for i in range(N_walk):\n",
    "        for m in meta:\n",
    "            Metapath.append(get_metapath(n,L_max,m))\n",
    "# count of sequences\n",
    "len(Metapath)"
   ]
  },
  {
   "cell_type": "code",
   "execution_count": 65,
   "metadata": {},
   "outputs": [],
   "source": [
    "# def Save_list(list1,filename):\n",
    "#     file2 = open(filename + '.txt', 'w')\n",
    "#     for i in range(len(list1)):\n",
    "#         for j in range(len(list1[i])):\n",
    "#             file2.write(str(list1[i][j]))              \n",
    "#             file2.write(' ')                         \n",
    "#         file2.write('\\n')                              # 写完一行立马换行\n",
    "#     file2.close()\n",
    "\n",
    "# Save_list(Metapath,'Metapath')"
   ]
  },
  {
   "cell_type": "code",
   "execution_count": 275,
   "metadata": {},
   "outputs": [
    {
     "name": "stdout",
     "output_type": "stream",
     "text": [
      "Starting training .. \n",
      "Finished training .. \n"
     ]
    }
   ],
   "source": [
    "print('Starting training .. ')\n",
    "model = Word2Vec(Metapath, size=128, window=10, min_count=0, workers=4)\n",
    "print('Finished training .. ')\n",
    "model.wv.save_word2vec_format('Vectorfile/Metapath2vec/'+data_name+'.embeddings')"
   ]
  },
  {
   "cell_type": "code",
   "execution_count": null,
   "metadata": {},
   "outputs": [],
   "source": []
  }
 ],
 "metadata": {
  "kernelspec": {
   "display_name": "Python 3",
   "language": "python",
   "name": "python3"
  },
  "language_info": {
   "codemirror_mode": {
    "name": "ipython",
    "version": 3
   },
   "file_extension": ".py",
   "mimetype": "text/x-python",
   "name": "python",
   "nbconvert_exporter": "python",
   "pygments_lexer": "ipython3",
   "version": "3.7.4"
  }
 },
 "nbformat": 4,
 "nbformat_minor": 2
}
